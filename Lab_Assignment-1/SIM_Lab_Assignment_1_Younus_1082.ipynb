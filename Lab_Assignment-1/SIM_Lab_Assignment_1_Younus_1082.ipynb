{
  "nbformat": 4,
  "nbformat_minor": 0,
  "metadata": {
    "colab": {
      "provenance": [],
      "include_colab_link": true
    },
    "kernelspec": {
      "name": "python3",
      "display_name": "Python 3"
    },
    "language_info": {
      "name": "python"
    }
  },
  "cells": [
    {
      "cell_type": "markdown",
      "metadata": {
        "id": "view-in-github",
        "colab_type": "text"
      },
      "source": [
        "<a href=\"https://colab.research.google.com/github/younus1082/Simulation-Modeling/blob/main/Lab_Assignment-1/SIM_Lab_Assignment_1_Younus_1082.ipynb\" target=\"_parent\"><img src=\"https://colab.research.google.com/assets/colab-badge.svg\" alt=\"Open In Colab\"/></a>"
      ]
    },
    {
      "cell_type": "markdown",
      "source": [
        "Name: Younus\n",
        "\n",
        "ID: 0432220005101082\n",
        "\n",
        "Section: 7A"
      ],
      "metadata": {
        "id": "Hs4j8P_RUIE6"
      }
    },
    {
      "cell_type": "code",
      "execution_count": 14,
      "metadata": {
        "id": "iJiw90Ziikfi"
      },
      "outputs": [],
      "source": [
        "# One-Sample t-Test with Python\n",
        "import numpy as np\n",
        "from scipy import stats\n",
        "import matplotlib.pyplot as plt"
      ]
    },
    {
      "cell_type": "code",
      "source": [
        "# last two digits = 82\n",
        "\n",
        "k = 82\n",
        "\n",
        "np.random.seed(0)  # for reproducibility\n",
        "exam_scores = 60 + np.random.randint(0, 15, size=12) + (k % 5)\n",
        "\n",
        "\n",
        "print(\"Sample Exam Scores:\", exam_scores)"
      ],
      "metadata": {
        "colab": {
          "base_uri": "https://localhost:8080/"
        },
        "id": "qShdIun6i4aI",
        "outputId": "7a2a20de-5324-4ee4-c0bc-fb8dd93281ed"
      },
      "execution_count": 15,
      "outputs": [
        {
          "output_type": "stream",
          "name": "stdout",
          "text": [
            "Sample Exam Scores: [74 67 62 65 73 65 69 71 65 67 64 66]\n"
          ]
        }
      ]
    },
    {
      "cell_type": "code",
      "source": [
        "hypothesized_mean = 65"
      ],
      "metadata": {
        "id": "w9QsVpNQjYvu"
      },
      "execution_count": 16,
      "outputs": []
    },
    {
      "cell_type": "code",
      "source": [
        "t_statistic, p_value = stats.ttest_1samp(exam_scores, popmean=hypothesized_mean)\n",
        "sample_mean = np.mean(exam_scores)\n",
        "df = len(exam_scores) - 1\n",
        "\n",
        "print(\"\\nSample Mean:\", sample_mean)\n",
        "print(\"Hypothesized Mean:\", hypothesized_mean)\n",
        "print(\"t-Statistic:\", t_statistic)\n",
        "print(\"Degrees of Freedom:\", df)\n",
        "print(\"p-Value:\", p_value)"
      ],
      "metadata": {
        "colab": {
          "base_uri": "https://localhost:8080/"
        },
        "id": "m6Y0ug--jmM6",
        "outputId": "3c1de7f4-f219-4bb8-b741-86215c210fb4"
      },
      "execution_count": 17,
      "outputs": [
        {
          "output_type": "stream",
          "name": "stdout",
          "text": [
            "\n",
            "Sample Mean: 67.33333333333333\n",
            "Hypothesized Mean: 65\n",
            "t-Statistic: 2.1840127070199844\n",
            "Degrees of Freedom: 11\n",
            "p-Value: 0.05150345901219767\n"
          ]
        }
      ]
    },
    {
      "cell_type": "code",
      "source": [
        "confidence_level = 0.95\n",
        "sem = stats.sem(exam_scores)  # Standard Error of the Mean\n",
        "ci = stats.t.interval(confidence_level, df, loc=sample_mean, scale=sem)\n",
        "print(\"\\n95% Confidence Interval for Sample Mean:\", ci)"
      ],
      "metadata": {
        "colab": {
          "base_uri": "https://localhost:8080/"
        },
        "id": "sq33qPG0jxVN",
        "outputId": "5910212c-7c11-4683-aeb0-82d041265bf7"
      },
      "execution_count": 18,
      "outputs": [
        {
          "output_type": "stream",
          "name": "stdout",
          "text": [
            "\n",
            "95% Confidence Interval for Sample Mean: (np.float64(64.98186714282707), np.float64(69.68479952383959))\n"
          ]
        }
      ]
    },
    {
      "cell_type": "code",
      "source": [
        "alpha = 0.05\n",
        "if p_value < alpha:\n",
        "    decision = \"Reject H0: The population mean is significantly different from 65.\"\n",
        "else:\n",
        "    decision = \"Fail to reject H0: No significant difference from 65.\"\n",
        "\n",
        "print(\"\\nDecision:\", decision)"
      ],
      "metadata": {
        "colab": {
          "base_uri": "https://localhost:8080/"
        },
        "id": "j93D7zMkj-n9",
        "outputId": "1a193e28-4672-47cc-9c9a-fcdb34be186a"
      },
      "execution_count": 22,
      "outputs": [
        {
          "output_type": "stream",
          "name": "stdout",
          "text": [
            "\n",
            "Decision: Fail to reject H0: No significant difference from 65.\n"
          ]
        }
      ]
    },
    {
      "cell_type": "code",
      "source": [
        "# 5. Visualization\n",
        "\n",
        "plt.figure(figsize=(8,6))\n",
        "plt.errorbar(x=[0], y=[sample_mean], yerr=[sem], fmt='o', capsize=10, label='Sample Mean ± 1 SE', color='blue')\n",
        "plt.axhline(hypothesized_mean, color='red', linestyle='--', label='Hypothesized Mean (65)')\n",
        "plt.xlim(-1,1)\n",
        "plt.xticks([])\n",
        "plt.ylabel('Exam Scores')\n",
        "plt.title('One-Sample t-Test Visualization')\n",
        "plt.legend()\n",
        "plt.show()"
      ],
      "metadata": {
        "colab": {
          "base_uri": "https://localhost:8080/",
          "height": 521
        },
        "id": "B8yejWvulWqx",
        "outputId": "6b2a05ad-3665-449f-96a1-a57326c7d899"
      },
      "execution_count": 24,
      "outputs": [
        {
          "output_type": "display_data",
          "data": {
            "text/plain": [
              "<Figure size 800x600 with 1 Axes>"
            ],
            "image/png": "[encoded data removed]"
          },
          "metadata": {}
        }
      ]
    }
  ]
}