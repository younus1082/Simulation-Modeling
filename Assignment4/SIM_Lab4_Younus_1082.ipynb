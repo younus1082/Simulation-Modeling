{
  "nbformat": 4,
  "nbformat_minor": 0,
  "metadata": {
    "colab": {
      "provenance": [],
      "include_colab_link": true
    },
    "kernelspec": {
      "name": "python3",
      "display_name": "Python 3"
    },
    "language_info": {
      "name": "python"
    }
  },
  "cells": [
    {
      "cell_type": "markdown",
      "metadata": {
        "id": "view-in-github",
        "colab_type": "text"
      },
      "source": [
        "<a href=\"https://colab.research.google.com/github/younus1082/Simulation-Modeling/blob/main/Assignment4/SIM_Lab4_Younus_1082.ipynb\" target=\"_parent\"><img src=\"https://colab.research.google.com/assets/colab-badge.svg\" alt=\"Open In Colab\"/></a>"
      ]
    },
    {
      "cell_type": "markdown",
      "source": [
        "**Part 1**"
      ],
      "metadata": {
        "id": "-EAv0PbAy4vi"
      }
    },
    {
      "cell_type": "code",
      "execution_count": 24,
      "metadata": {
        "collapsed": true,
        "id": "JKAoXD6nqan6"
      },
      "outputs": [],
      "source": [
        "import numpy as np\n",
        "from sympy import Matrix\n",
        "import matplotlib.pyplot as plt\n",
        "import seaborn as sns\n",
        "import random\n",
        "\n",
        "R = 82\n",
        "num_points = 200 * 6"
      ]
    },
    {
      "cell_type": "code",
      "source": [
        "# 1. Function to check if a point is inside the circle\n",
        "def is_inside_circle(x, y, radius):\n",
        "  return x**2 + y**2 <= (radius / 10)**2\n",
        "\n",
        "# 2. Generate points using two different random methods\n",
        "def generate_points(num_points, R):\n",
        "  inside = 0\n",
        "  outside = 0\n",
        "\n",
        "  # Half using random.uniform()\n",
        "  for _ in range(num_points // 2):\n",
        "    x = random.uniform(0, R / 10)\n",
        "    y = random.uniform(0, R / 10)\n",
        "    if is_inside_circle(x, y, R):\n",
        "      inside += 1\n",
        "    else:\n",
        "      outside += 1\n",
        "\n",
        "  # Half using numpy.random.rand() scaled to range\n",
        "  points = np.random.rand(num_points // 2, 2) * (R / 10)\n",
        "  for x, y in points:\n",
        "    if is_inside_circle(x, y, R):\n",
        "      inside += 1\n",
        "    else:\n",
        "      outside += 1\n",
        "\n",
        "  return inside, outside\n",
        "\n",
        "# 3. Keep a running count of points\n",
        "inside_count, outside_count = generate_points(num_points, R)\n",
        "print(\"Points inside the circle:\", inside_count)\n",
        "print(\"Points outside the circle:\", outside_count)"
      ],
      "metadata": {
        "colab": {
          "base_uri": "https://localhost:8080/"
        },
        "id": "PcFjAGGyy2ch",
        "outputId": "4a3a14b0-a4e2-454e-bdc2-ccba10deb513"
      },
      "execution_count": 25,
      "outputs": [
        {
          "output_type": "stream",
          "name": "stdout",
          "text": [
            "Points inside the circle: 929\n",
            "Points outside the circle: 271\n"
          ]
        }
      ]
    },
    {
      "cell_type": "markdown",
      "source": [
        "**Part 3**"
      ],
      "metadata": {
        "id": "sk-DOINMy7Uh"
      }
    },
    {
      "cell_type": "code",
      "source": [
        "# Part 3 - Output & Analysis\n",
        "def estimate_pi_adjusted(num_points, R):\n",
        "    inside, _ = generate_points(num_points, R)\n",
        "    radius = R / 10\n",
        "    # Adjusted formula: π ≈ 4 * (Points inside / Total points) * (1 / r^2)\n",
        "    estimated_pi = 4 * (inside / num_points) * (1 / (radius ** 2))\n",
        "    math_pi = np.pi\n",
        "    error = abs(estimated_pi - math_pi)\n",
        "    return inside, estimated_pi, error\n",
        "\n",
        "# Minimum points from Part 1\n",
        "min_points = num_points\n",
        "point_multiples = [min_points, 2 * min_points, 3 * min_points, 4 * min_points, 5 * min_points]\n",
        "\n",
        "# Print results in tabular format\n",
        "print(\"Range Used | Total Points | Points Inside | Estimated π | Error from math.pi\")\n",
        "for points in point_multiples:\n",
        "    points_inside, estimated_pi, error = estimate_pi_adjusted(points, R)\n",
        "    print(f\"{R/10} | {points} | {points_inside} | {estimated_pi:.6f} | {error:.6f}\")"
      ],
      "metadata": {
        "colab": {
          "base_uri": "https://localhost:8080/"
        },
        "id": "zQzo4rEzy9jB",
        "outputId": "94895350-5e9e-4bff-d5af-f53b8db33e25"
      },
      "execution_count": 32,
      "outputs": [
        {
          "output_type": "stream",
          "name": "stdout",
          "text": [
            "Range Used | Total Points | Points Inside | Estimated π | Error from math.pi\n",
            "8.2 | 1200 | 930 | 0.046104 | 3.095489\n",
            "8.2 | 2400 | 1840 | 0.045608 | 3.095985\n",
            "8.2 | 3600 | 2833 | 0.046814 | 3.094779\n",
            "8.2 | 4800 | 3750 | 0.046475 | 3.095117\n",
            "8.2 | 6000 | 4766 | 0.047254 | 3.094339\n"
          ]
        }
      ]
    }
  ]
}