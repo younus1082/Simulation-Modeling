{
  "nbformat": 4,
  "nbformat_minor": 0,
  "metadata": {
    "colab": {
      "provenance": [],
      "include_colab_link": true
    },
    "kernelspec": {
      "name": "python3",
      "display_name": "Python 3"
    },
    "language_info": {
      "name": "python"
    }
  },
  "cells": [
    {
      "cell_type": "markdown",
      "metadata": {
        "id": "view-in-github",
        "colab_type": "text"
      },
      "source": [
        "<a href=\"https://colab.research.google.com/github/younus1082/Simulation-Modeling/blob/main/Assignment7/SIM_Lab_Test_0432220005101082_(Lab_Test_1_(Set_A)_%5B7A1%5D).ipynb\" target=\"_parent\"><img src=\"https://colab.research.google.com/assets/colab-badge.svg\" alt=\"Open In Colab\"/></a>"
      ]
    },
    {
      "cell_type": "markdown",
      "metadata": {
        "id": "5d4fd870"
      },
      "source": [
        "# Task\n",
        "\n",
        "Younus | 0432220005101082 | Lab Test 1 (Set A) [7A1]\n"
      ]
    },
    {
      "cell_type": "code",
      "metadata": {
        "colab": {
          "base_uri": "https://localhost:8080/",
          "height": 206
        },
        "id": "59084bc9",
        "outputId": "1d599894-6198-4eb2-b7a0-fccef7e3a832"
      },
      "source": [
        "import pandas as pd\n",
        "from scipy.stats import ttest_1samp\n",
        "import matplotlib.pyplot as plt\n",
        "import numpy as np\n",
        "\n",
        "\n",
        "data = [\n",
        "    [1, 93], [2, 83], [3, 69], [4, 62], [5, 75],\n",
        "    [6, 93], [7, 73], [8, 77], [9, 65], [10, 65],\n",
        "    [11, 78], [12, 90], [13, 94], [14, 78], [15, 57],\n",
        "    [16, 76], [17, 56], [18, 78], [19, 84], [20, 92]\n",
        "]\n",
        "\n",
        "df = pd.DataFrame(data, columns=['Day', 'Arrivals'])\n",
        "display(df.head())"
      ],
      "execution_count": 35,
      "outputs": [
        {
          "output_type": "display_data",
          "data": {
            "text/plain": [
              "   Day  Arrivals\n",
              "0    1        93\n",
              "1    2        83\n",
              "2    3        69\n",
              "3    4        62\n",
              "4    5        75"
            ],
            "text/html": [
              "\n",
              "  <div id=\"df-e18c6ddb-8832-4f55-b33b-c3aacb7e9a77\" class=\"colab-df-container\">\n",
              "    <div>\n",
              "<style scoped>\n",
              "    .dataframe tbody tr th:only-of-type {\n",
              "        vertical-align: middle;\n",
              "    }\n",
              "\n",
              "    .dataframe tbody tr th {\n",
              "        vertical-align: top;\n",
              "    }\n",
              "\n",
              "    .dataframe thead th {\n",
              "        text-align: right;\n",
              "    }\n",
              "</style>\n",
              "<table border=\"1\" class=\"dataframe\">\n",
              "  <thead>\n",
              "    <tr style=\"text-align: right;\">\n",
              "      <th></th>\n",
              "      <th>Day</th>\n",
              "      <th>Arrivals</th>\n",
              "    </tr>\n",
              "  </thead>\n",
              "  <tbody>\n",
              "    <tr>\n",
              "      <th>0</th>\n",
              "      <td>1</td>\n",
              "      <td>93</td>\n",
              "    </tr>\n",
              "    <tr>\n",
              "      <th>1</th>\n",
              "      <td>2</td>\n",
              "      <td>83</td>\n",
              "    </tr>\n",
              "    <tr>\n",
              "      <th>2</th>\n",
              "      <td>3</td>\n",
              "      <td>69</td>\n",
              "    </tr>\n",
              "    <tr>\n",
              "      <th>3</th>\n",
              "      <td>4</td>\n",
              "      <td>62</td>\n",
              "    </tr>\n",
              "    <tr>\n",
              "      <th>4</th>\n",
              "      <td>5</td>\n",
              "      <td>75</td>\n",
              "    </tr>\n",
              "  </tbody>\n",
              "</table>\n",
              "</div>\n",
              "    <div class=\"colab-df-buttons\">\n",
              "\n",
              "  <div class=\"colab-df-container\">\n",
              "    <button class=\"colab-df-convert\" onclick=\"convertToInteractive('df-e18c6ddb-8832-4f55-b33b-c3aacb7e9a77')\"\n",
              "            title=\"Convert this dataframe to an interactive table.\"\n",
              "            style=\"display:none;\">\n",
              "\n",
              "  <svg xmlns=\"http://www.w3.org/2000/svg\" height=\"24px\" viewBox=\"0 -960 960 960\">\n",
              "    <path d=\"M120-120v-720h720v720H120Zm60-500h600v-160H180v160Zm220 220h160v-160H400v160Zm0 220h160v-160H400v160ZM180-400h160v-160H180v160Zm440 0h160v-160H620v160ZM180-180h160v-160H180v160Zm440 0h160v-160H620v160Z\"/>\n",
              "  </svg>\n",
              "    </button>\n",
              "\n",
              "  <style>\n",
              "    .colab-df-container {\n",
              "      display:flex;\n",
              "      gap: 12px;\n",
              "    }\n",
              "\n",
              "    .colab-df-convert {\n",
              "      background-color: #E8F0FE;\n",
              "      border: none;\n",
              "      border-radius: 50%;\n",
              "      cursor: pointer;\n",
              "      display: none;\n",
              "      fill: #1967D2;\n",
              "      height: 32px;\n",
              "      padding: 0 0 0 0;\n",
              "      width: 32px;\n",
              "    }\n",
              "\n",
              "    .colab-df-convert:hover {\n",
              "      background-color: #E2EBFA;\n",
              "      box-shadow: 0px 1px 2px rgba(60, 64, 67, 0.3), 0px 1px 3px 1px rgba(60, 64, 67, 0.15);\n",
              "      fill: #174EA6;\n",
              "    }\n",
              "\n",
              "    .colab-df-buttons div {\n",
              "      margin-bottom: 4px;\n",
              "    }\n",
              "\n",
              "    [theme=dark] .colab-df-convert {\n",
              "      background-color: #3B4455;\n",
              "      fill: #D2E3FC;\n",
              "    }\n",
              "\n",
              "    [theme=dark] .colab-df-convert:hover {\n",
              "      background-color: #434B5C;\n",
              "      box-shadow: 0px 1px 3px 1px rgba(0, 0, 0, 0.15);\n",
              "      filter: drop-shadow(0px 1px 2px rgba(0, 0, 0, 0.3));\n",
              "      fill: #FFFFFF;\n",
              "    }\n",
              "  </style>\n",
              "\n",
              "    <script>\n",
              "      const buttonEl =\n",
              "        document.querySelector('#df-e18c6ddb-8832-4f55-b33b-c3aacb7e9a77 button.colab-df-convert');\n",
              "      buttonEl.style.display =\n",
              "        google.colab.kernel.accessAllowed ? 'block' : 'none';\n",
              "\n",
              "      async function convertToInteractive(key) {\n",
              "        const element = document.querySelector('#df-e18c6ddb-8832-4f55-b33b-c3aacb7e9a77');\n",
              "        const dataTable =\n",
              "          await google.colab.kernel.invokeFunction('convertToInteractive',\n",
              "                                                    [key], {});\n",
              "        if (!dataTable) return;\n",
              "\n",
              "        const docLinkHtml = 'Like what you see? Visit the ' +\n",
              "          '<a target=\"_blank\" href=https://colab.research.google.com/notebooks/data_table.ipynb>data table notebook</a>'\n",
              "          + ' to learn more about interactive tables.';\n",
              "        element.innerHTML = '';\n",
              "        dataTable['output_type'] = 'display_data';\n",
              "        await google.colab.output.renderOutput(dataTable, element);\n",
              "        const docLink = document.createElement('div');\n",
              "        docLink.innerHTML = docLinkHtml;\n",
              "        element.appendChild(docLink);\n",
              "      }\n",
              "    </script>\n",
              "  </div>\n",
              "\n",
              "\n",
              "    <div id=\"df-76c3c903-8d62-4f2b-9579-ef852615e40c\">\n",
              "      <button class=\"colab-df-quickchart\" onclick=\"quickchart('df-76c3c903-8d62-4f2b-9579-ef852615e40c')\"\n",
              "                title=\"Suggest charts\"\n",
              "                style=\"display:none;\">\n",
              "\n",
              "<svg xmlns=\"http://www.w3.org/2000/svg\" height=\"24px\"viewBox=\"0 0 24 24\"\n",
              "     width=\"24px\">\n",
              "    <g>\n",
              "        <path d=\"M19 3H5c-1.1 0-2 .9-2 2v14c0 1.1.9 2 2 2h14c1.1 0 2-.9 2-2V5c0-1.1-.9-2-2-2zM9 17H7v-7h2v7zm4 0h-2V7h2v10zm4 0h-2v-4h2v4z\"/>\n",
              "    </g>\n",
              "</svg>\n",
              "      </button>\n",
              "\n",
              "<style>\n",
              "  .colab-df-quickchart {\n",
              "      --bg-color: #E8F0FE;\n",
              "      --fill-color: #1967D2;\n",
              "      --hover-bg-color: #E2EBFA;\n",
              "      --hover-fill-color: #174EA6;\n",
              "      --disabled-fill-color: #AAA;\n",
              "      --disabled-bg-color: #DDD;\n",
              "  }\n",
              "\n",
              "  [theme=dark] .colab-df-quickchart {\n",
              "      --bg-color: #3B4455;\n",
              "      --fill-color: #D2E3FC;\n",
              "      --hover-bg-color: #434B5C;\n",
              "      --hover-fill-color: #FFFFFF;\n",
              "      --disabled-bg-color: #3B4455;\n",
              "      --disabled-fill-color: #666;\n",
              "  }\n",
              "\n",
              "  .colab-df-quickchart {\n",
              "    background-color: var(--bg-color);\n",
              "    border: none;\n",
              "    border-radius: 50%;\n",
              "    cursor: pointer;\n",
              "    display: none;\n",
              "    fill: var(--fill-color);\n",
              "    height: 32px;\n",
              "    padding: 0;\n",
              "    width: 32px;\n",
              "  }\n",
              "\n",
              "  .colab-df-quickchart:hover {\n",
              "    background-color: var(--hover-bg-color);\n",
              "    box-shadow: 0 1px 2px rgba(60, 64, 67, 0.3), 0 1px 3px 1px rgba(60, 64, 67, 0.15);\n",
              "    fill: var(--button-hover-fill-color);\n",
              "  }\n",
              "\n",
              "  .colab-df-quickchart-complete:disabled,\n",
              "  .colab-df-quickchart-complete:disabled:hover {\n",
              "    background-color: var(--disabled-bg-color);\n",
              "    fill: var(--disabled-fill-color);\n",
              "    box-shadow: none;\n",
              "  }\n",
              "\n",
              "  .colab-df-spinner {\n",
              "    border: 2px solid var(--fill-color);\n",
              "    border-color: transparent;\n",
              "    border-bottom-color: var(--fill-color);\n",
              "    animation:\n",
              "      spin 1s steps(1) infinite;\n",
              "  }\n",
              "\n",
              "  @keyframes spin {\n",
              "    0% {\n",
              "      border-color: transparent;\n",
              "      border-bottom-color: var(--fill-color);\n",
              "      border-left-color: var(--fill-color);\n",
              "    }\n",
              "    20% {\n",
              "      border-color: transparent;\n",
              "      border-left-color: var(--fill-color);\n",
              "      border-top-color: var(--fill-color);\n",
              "    }\n",
              "    30% {\n",
              "      border-color: transparent;\n",
              "      border-left-color: var(--fill-color);\n",
              "      border-top-color: var(--fill-color);\n",
              "      border-right-color: var(--fill-color);\n",
              "    }\n",
              "    40% {\n",
              "      border-color: transparent;\n",
              "      border-right-color: var(--fill-color);\n",
              "      border-top-color: var(--fill-color);\n",
              "    }\n",
              "    60% {\n",
              "      border-color: transparent;\n",
              "      border-right-color: var(--fill-color);\n",
              "    }\n",
              "    80% {\n",
              "      border-color: transparent;\n",
              "      border-right-color: var(--fill-color);\n",
              "      border-bottom-color: var(--fill-color);\n",
              "    }\n",
              "    90% {\n",
              "      border-color: transparent;\n",
              "      border-bottom-color: var(--fill-color);\n",
              "    }\n",
              "  }\n",
              "</style>\n",
              "\n",
              "      <script>\n",
              "        async function quickchart(key) {\n",
              "          const quickchartButtonEl =\n",
              "            document.querySelector('#' + key + ' button');\n",
              "          quickchartButtonEl.disabled = true;  // To prevent multiple clicks.\n",
              "          quickchartButtonEl.classList.add('colab-df-spinner');\n",
              "          try {\n",
              "            const charts = await google.colab.kernel.invokeFunction(\n",
              "                'suggestCharts', [key], {});\n",
              "          } catch (error) {\n",
              "            console.error('Error during call to suggestCharts:', error);\n",
              "          }\n",
              "          quickchartButtonEl.classList.remove('colab-df-spinner');\n",
              "          quickchartButtonEl.classList.add('colab-df-quickchart-complete');\n",
              "        }\n",
              "        (() => {\n",
              "          let quickchartButtonEl =\n",
              "            document.querySelector('#df-76c3c903-8d62-4f2b-9579-ef852615e40c button');\n",
              "          quickchartButtonEl.style.display =\n",
              "            google.colab.kernel.accessAllowed ? 'block' : 'none';\n",
              "        })();\n",
              "      </script>\n",
              "    </div>\n",
              "\n",
              "    </div>\n",
              "  </div>\n"
            ],
            "application/vnd.google.colaboratory.intrinsic+json": {
              "type": "dataframe",
              "summary": "{\n  \"name\": \"display(df\",\n  \"rows\": 5,\n  \"fields\": [\n    {\n      \"column\": \"Day\",\n      \"properties\": {\n        \"dtype\": \"number\",\n        \"std\": 1,\n        \"min\": 1,\n        \"max\": 5,\n        \"num_unique_values\": 5,\n        \"samples\": [\n          2,\n          5,\n          3\n        ],\n        \"semantic_type\": \"\",\n        \"description\": \"\"\n      }\n    },\n    {\n      \"column\": \"Arrivals\",\n      \"properties\": {\n        \"dtype\": \"number\",\n        \"std\": 12,\n        \"min\": 62,\n        \"max\": 93,\n        \"num_unique_values\": 5,\n        \"samples\": [\n          83,\n          75,\n          69\n        ],\n        \"semantic_type\": \"\",\n        \"description\": \"\"\n      }\n    }\n  ]\n}"
            }
          },
          "metadata": {}
        }
      ]
    },
    {
      "cell_type": "markdown",
      "metadata": {
        "id": "b330dd27"
      },
      "source": [
        "## Basic statistics\n",
        "\n",
        "### Subtask:\n",
        "Compute and display the mean, variance, and standard deviation of the daily customer arrivals. Explain the difference between population and sample variance.\n"
      ]
    },
    {
      "cell_type": "code",
      "metadata": {
        "colab": {
          "base_uri": "https://localhost:8080/"
        },
        "id": "1c0754d8",
        "outputId": "62c2ac2e-0842-4736-dc77-feba490a7678"
      },
      "source": [
        "mean_arrivals = df['Arrivals'].mean()\n",
        "variance_arrivals = df['Arrivals'].var()\n",
        "std_dev_arrivals = df['Arrivals'].std()\n",
        "\n",
        "print(f\"Mean of daily arrivals: {mean_arrivals:.2f}\")\n",
        "print(f\"Sample variance of daily arrivals: {variance_arrivals:.2f}\")\n",
        "print(f\"Sample standard deviation of daily arrivals: {std_dev_arrivals:.2f}\")"
      ],
      "execution_count": 36,
      "outputs": [
        {
          "output_type": "stream",
          "name": "stdout",
          "text": [
            "Mean of daily arrivals: 76.90\n",
            "Sample variance of daily arrivals: 143.25\n",
            "Sample standard deviation of daily arrivals: 11.97\n"
          ]
        }
      ]
    },
    {
      "cell_type": "markdown",
      "metadata": {
        "id": "59e84306"
      },
      "source": [
        "**Reasoning**:\n",
        "Explain the difference between population and sample variance in a markdown cell.\n",
        "\n"
      ]
    },
    {
      "cell_type": "markdown",
      "source": [
        "In essence, population variance uses all data points from the entire group, while sample variance uses a subset of data points and adjusts the denominator to better estimate the true population variance."
      ],
      "metadata": {
        "id": "cqxXRDEqHpl0"
      }
    },
    {
      "cell_type": "markdown",
      "source": [
        "2. Random Number Generator"
      ],
      "metadata": {
        "id": "QQTNGiEMH1E8"
      }
    },
    {
      "cell_type": "code",
      "metadata": {
        "colab": {
          "base_uri": "https://localhost:8080/",
          "height": 507
        },
        "id": "e1836fdc",
        "outputId": "30dc6857-9ce0-48c8-f9e6-21a1ddbc5ec5"
      },
      "source": [
        "import numpy as np\n",
        "import matplotlib.pyplot as plt\n",
        "\n",
        "simulated_arrivals = np.random.randint(df['Arrivals'].min(), df['Arrivals'].max() + 1, size=20)\n",
        "\n",
        "fig, axes = plt.subplots(1, 2, figsize=(12, 5))\n",
        "\n",
        "axes[0].hist(df['Arrivals'], bins=range(df['Arrivals'].min(), df['Arrivals'].max() + 2), align='left', rwidth=0.8)\n",
        "axes[0].set_title(\"Real Data\")\n",
        "axes[0].set_xlabel(\"Number of Arrivals\")\n",
        "axes[0].set_ylabel(\"Frequency\")\n",
        "\n",
        "axes[1].hist(simulated_arrivals, bins=range(df['Arrivals'].min(), df['Arrivals'].max() + 2), align='left', rwidth=0.8)\n",
        "axes[1].set_title(\"Simulated Data (Uniform Distribution)\")\n",
        "axes[1].set_xlabel(\"Number of Arrivals\")\n",
        "axes[1].set_ylabel(\"Frequency\")\n",
        "\n",
        "plt.tight_layout()\n",
        "plt.show()"
      ],
      "execution_count": 37,
      "outputs": [
        {
          "output_type": "display_data",
          "data": {
            "text/plain": [
              "<Figure size 1200x500 with 2 Axes>"
            ],
            "image/png": "[encoded data removed]"
          },
          "metadata": {}
        }
      ]
    },
    {
      "cell_type": "markdown",
      "metadata": {
        "id": "58c50c5c"
      },
      "source": [
        "## Monte carlo simulation"
      ]
    },
    {
      "cell_type": "code",
      "metadata": {
        "colab": {
          "base_uri": "https://localhost:8080/"
        },
        "id": "5fa846b4",
        "outputId": "86747bce-c53a-4363-b403-b1452e535a7d"
      },
      "source": [
        "num_simulations = 100000\n",
        "min_arrivals = df['Arrivals'].min()\n",
        "max_arrivals = df['Arrivals'].max()\n",
        "\n",
        "simulated_arrivals_mc = np.random.uniform(min_arrivals, max_arrivals + 1, size=num_simulations)\n",
        "\n",
        "arrivals_greater_than_15 = np.sum(simulated_arrivals_mc > 15)\n",
        "\n",
        "estimated_probability = arrivals_greater_than_15 / num_simulations\n",
        "\n",
        "print(f\"Estimated probability of more than 15 arrivals: {estimated_probability:.4f}\")"
      ],
      "execution_count": 38,
      "outputs": [
        {
          "output_type": "stream",
          "name": "stdout",
          "text": [
            "Estimated probability of more than 15 arrivals: 1.0000\n"
          ]
        }
      ]
    },
    {
      "cell_type": "markdown",
      "metadata": {
        "id": "5ab5c56a"
      },
      "source": [
        "## Hypothesis testing\n"
      ]
    },
    {
      "cell_type": "code",
      "metadata": {
        "colab": {
          "base_uri": "https://localhost:8080/",
          "height": 513
        },
        "id": "f740381a",
        "outputId": "12dd479b-6e49-4167-9301-c60d610beedc"
      },
      "source": [
        "from scipy.stats import ttest_1samp\n",
        "import matplotlib.pyplot as plt\n",
        "import pandas as pd # Import pandas to ensure DataFrame is recognized\n",
        "\n",
        "# Sample data (assuming this is the data you are working with)\n",
        "data = [\n",
        "    [1, 93], [2, 83], [3, 69], [4, 62], [5, 75],\n",
        "    [6, 93], [7, 73], [8, 77], [9, 65], [10, 65],\n",
        "    [11, 78], [12, 90], [13, 94], [14, 78], [15, 57],\n",
        "    [16, 76], [17, 56], [18, 78], [19, 84], [20, 92]\n",
        "]\n",
        "\n",
        "df = pd.DataFrame(data, columns=['Day', 'Arrivals'])\n",
        "\n",
        "# Define the hypothesized mean based on a calculation\n",
        "hypothesized_avg = (82 % 50) + 50\n",
        "print(f\"Hypothesized average: {hypothesized_avg:.2f}\")\n",
        "\n",
        "# Calculate the sample mean\n",
        "mean_arrivals = df['Arrivals'].mean()\n",
        "\n",
        "# Perform a one-sample t-test\n",
        "# This tests if the sample mean is significantly different from the hypothesized mean\n",
        "t_stat, p_val = ttest_1samp(df['Arrivals'], popmean=hypothesized_avg)\n",
        "\n",
        "# Print the calculated t-statistic and p-value\n",
        "print(f\"T-statistic: {t_stat:.2f}\")\n",
        "print(f\"P-value: {p_val:.4f}\")\n",
        "\n",
        "# Create a bar plot to visually compare the sample mean and the hypothesized mean\n",
        "labels = ['Sample Average', 'Hypothesized Average']\n",
        "values = [mean_arrivals, hypothesized_avg] # Using the previously calculated mean_arrivals\n",
        "\n",
        "plt.figure(figsize=(6, 4))\n",
        "plt.bar(labels, values, color=['lightgreen', 'salmon'])\n",
        "\n",
        "# Add descriptive labels and a title to the plot\n",
        "plt.ylabel(\"Number of Arrivals\")\n",
        "plt.title(\"Comparison of Sample Average and Hypothesized Average\")\n",
        "\n",
        "# Display the generated plot\n",
        "plt.show()\n",
        "\n",
        "# Interpret the results of the t-test based on the p-value\n",
        "print(\"\\nT-test Interpretation:\")\n",
        "# Using a standard significance level of 0.05\n",
        "alpha = 0.05\n",
        "if p_val < alpha:\n",
        "    print(f\"Based on the p-value of {p_val:.4f}, which is less than the significance level of {alpha}, we have sufficient evidence to reject the null hypothesis.\")\n",
        "    print(f\"This indicates that the true mean of daily customer arrivals is likely different from the hypothesized mean of {hypothesized_avg:.2f}.\")\n",
        "else:\n",
        "    print(f\"With a p-value of {p_val:.4f}, which is greater than or equal to the significance level of {alpha}, we do not have sufficient evidence to reject the null hypothesis.\")\n",
        "    print(f\"This suggests that there is no statistically significant difference between the sample mean and the hypothesized mean of {hypothesized_avg:.2f}.\")"
      ],
      "execution_count": 39,
      "outputs": [
        {
          "output_type": "stream",
          "name": "stdout",
          "text": [
            "Hypothesized average: 82.00\n",
            "T-statistic: -1.91\n",
            "P-value: 0.0719\n"
          ]
        },
        {
          "output_type": "display_data",
          "data": {
            "text/plain": [
              "<Figure size 600x400 with 1 Axes>"
            ],
            "image/png": "[encoded data removed]"
          },
          "metadata": {}
        },
        {
          "output_type": "stream",
          "name": "stdout",
          "text": [
            "\n",
            "T-test Interpretation:\n",
            "With a p-value of 0.0719, which is greater than or equal to the significance level of 0.05, we do not have sufficient evidence to reject the null hypothesis.\n",
            "This suggests that there is no statistically significant difference between the sample mean and the hypothesized mean of 82.00.\n"
          ]
        }
      ]
    }
  ]
}